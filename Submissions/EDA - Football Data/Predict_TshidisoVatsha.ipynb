{
 "cells": [
  {
   "cell_type": "code",
   "execution_count": 2,
   "metadata": {},
   "outputs": [
    {
     "name": "stderr",
     "output_type": "stream",
     "text": [
      "C:\\Users\\Tshidiso\\Anaconda3\\lib\\site-packages\\IPython\\core\\interactiveshell.py:3058: DtypeWarning: Columns (14,26) have mixed types. Specify dtype option on import or set low_memory=False.\n",
      "  interactivity=interactivity, compiler=compiler, result=result)\n"
     ]
    }
   ],
   "source": [
    "import pandas as pd\n",
    "\n",
    "# Load data - pass 'Name' as our index column\n",
    "load_df = pd.read_csv(\"C:/Users/Tshidiso/Downloads/football_players-a-1292.csv\", index_col='Name').sample(frac=1)\n",
    "\n",
    "# Create dataframe called df\n",
    "df = pd.DataFrame(load_df)"
   ]
  },
  {
   "cell_type": "code",
   "execution_count": 3,
   "metadata": {},
   "outputs": [],
   "source": [
    "def position_type(s):\n",
    "    \n",
    "    \"\"\"This function converts the individual positions (abbreviations) and classfies it\n",
    "    as either a forward, midfielder, back or goal keeper\"\"\"\n",
    "    \n",
    "    if (s[-2] == 'T') | (s[-2] == 'W'):\n",
    "        return 'Forward'\n",
    "    elif s[-2] == 'M':\n",
    "        return 'Midfielder'\n",
    "    elif s[-2] == 'B':\n",
    "        return 'Back'\n",
    "    else:\n",
    "        return 'GoalKeeper'\n",
    "\n",
    "df['Preferred Positions Type'] = df['Preferred Positions'].apply(position_type)"
   ]
  },
  {
   "cell_type": "code",
   "execution_count": 4,
   "metadata": {},
   "outputs": [],
   "source": [
    "\n",
    "cols = ['Overall', 'Acceleration', 'Aggression',\n",
    "       'Agility', 'Balance', 'Ball control', 'Composure', 'Crossing', 'Curve',\n",
    "       'Dribbling', 'Finishing', 'Free kick accuracy', 'GK diving',\n",
    "       'GK handling', 'GK kicking', 'GK positioning', 'GK reflexes',\n",
    "       'Heading accuracy', 'Interceptions', 'Jumping', 'Long passing',\n",
    "       'Long shots', 'Marking', 'Penalties', 'Positioning', 'Reactions',\n",
    "       'Short passing', 'Shot power', 'Sliding tackle', 'Sprint speed',\n",
    "       'Stamina', 'Standing tackle', 'Strength', 'Vision', 'Volleys']\n",
    "\n",
    "def to_float(x):    \n",
    "    \"Transforms attribute columns to type float\"\n",
    "    \n",
    "    if type(x) is int:\n",
    "        return float(x)\n",
    "    else:\n",
    "        return float(x[0:2])\n",
    "\n",
    "df[cols] = df[cols].applymap(to_float)"
   ]
  },
  {
   "cell_type": "code",
   "execution_count": 5,
   "metadata": {},
   "outputs": [
    {
     "data": {
      "text/html": [
       "<div>\n",
       "<style scoped>\n",
       "    .dataframe tbody tr th:only-of-type {\n",
       "        vertical-align: middle;\n",
       "    }\n",
       "\n",
       "    .dataframe tbody tr th {\n",
       "        vertical-align: top;\n",
       "    }\n",
       "\n",
       "    .dataframe thead th {\n",
       "        text-align: right;\n",
       "    }\n",
       "</style>\n",
       "<table border=\"1\" class=\"dataframe\">\n",
       "  <thead>\n",
       "    <tr style=\"text-align: right;\">\n",
       "      <th></th>\n",
       "      <th>Age</th>\n",
       "      <th>Nationality</th>\n",
       "      <th>Overall</th>\n",
       "      <th>Acceleration</th>\n",
       "      <th>Aggression</th>\n",
       "      <th>Agility</th>\n",
       "      <th>Balance</th>\n",
       "      <th>Ball control</th>\n",
       "      <th>Composure</th>\n",
       "      <th>Crossing</th>\n",
       "      <th>...</th>\n",
       "      <th>Shot power</th>\n",
       "      <th>Sliding tackle</th>\n",
       "      <th>Sprint speed</th>\n",
       "      <th>Stamina</th>\n",
       "      <th>Standing tackle</th>\n",
       "      <th>Strength</th>\n",
       "      <th>Vision</th>\n",
       "      <th>Volleys</th>\n",
       "      <th>Preferred Positions</th>\n",
       "      <th>Preferred Positions Type</th>\n",
       "    </tr>\n",
       "    <tr>\n",
       "      <th>Name</th>\n",
       "      <th></th>\n",
       "      <th></th>\n",
       "      <th></th>\n",
       "      <th></th>\n",
       "      <th></th>\n",
       "      <th></th>\n",
       "      <th></th>\n",
       "      <th></th>\n",
       "      <th></th>\n",
       "      <th></th>\n",
       "      <th></th>\n",
       "      <th></th>\n",
       "      <th></th>\n",
       "      <th></th>\n",
       "      <th></th>\n",
       "      <th></th>\n",
       "      <th></th>\n",
       "      <th></th>\n",
       "      <th></th>\n",
       "      <th></th>\n",
       "      <th></th>\n",
       "    </tr>\n",
       "  </thead>\n",
       "  <tbody>\n",
       "    <tr>\n",
       "      <td>A. Muhamedbegovic</td>\n",
       "      <td>18</td>\n",
       "      <td>Austria</td>\n",
       "      <td>51.0</td>\n",
       "      <td>54.0</td>\n",
       "      <td>45.0</td>\n",
       "      <td>37.0</td>\n",
       "      <td>56.0</td>\n",
       "      <td>31.0</td>\n",
       "      <td>43.0</td>\n",
       "      <td>31.0</td>\n",
       "      <td>...</td>\n",
       "      <td>41.0</td>\n",
       "      <td>53.0</td>\n",
       "      <td>64.0</td>\n",
       "      <td>53.0</td>\n",
       "      <td>55.0</td>\n",
       "      <td>62.0</td>\n",
       "      <td>27.0</td>\n",
       "      <td>27.0</td>\n",
       "      <td>CB</td>\n",
       "      <td>Back</td>\n",
       "    </tr>\n",
       "    <tr>\n",
       "      <td>R. Dow</td>\n",
       "      <td>26</td>\n",
       "      <td>Scotland</td>\n",
       "      <td>65.0</td>\n",
       "      <td>81.0</td>\n",
       "      <td>59.0</td>\n",
       "      <td>90.0</td>\n",
       "      <td>76.0</td>\n",
       "      <td>68.0</td>\n",
       "      <td>61.0</td>\n",
       "      <td>61.0</td>\n",
       "      <td>...</td>\n",
       "      <td>60.0</td>\n",
       "      <td>15.0</td>\n",
       "      <td>79.0</td>\n",
       "      <td>73.0</td>\n",
       "      <td>19.0</td>\n",
       "      <td>61.0</td>\n",
       "      <td>61.0</td>\n",
       "      <td>55.0</td>\n",
       "      <td>LM</td>\n",
       "      <td>Midfielder</td>\n",
       "    </tr>\n",
       "    <tr>\n",
       "      <td>A. Epureanu</td>\n",
       "      <td>30</td>\n",
       "      <td>Moldova</td>\n",
       "      <td>74.0</td>\n",
       "      <td>57.0</td>\n",
       "      <td>70.0</td>\n",
       "      <td>36.0</td>\n",
       "      <td>36.0</td>\n",
       "      <td>61.0</td>\n",
       "      <td>53.0</td>\n",
       "      <td>39.0</td>\n",
       "      <td>...</td>\n",
       "      <td>71.0</td>\n",
       "      <td>72.0</td>\n",
       "      <td>50.0</td>\n",
       "      <td>63.0</td>\n",
       "      <td>77.0</td>\n",
       "      <td>87.0</td>\n",
       "      <td>41.0</td>\n",
       "      <td>65.0</td>\n",
       "      <td>CB</td>\n",
       "      <td>Back</td>\n",
       "    </tr>\n",
       "    <tr>\n",
       "      <td>Aurélio Buta</td>\n",
       "      <td>20</td>\n",
       "      <td>Angola</td>\n",
       "      <td>67.0</td>\n",
       "      <td>81.0</td>\n",
       "      <td>61.0</td>\n",
       "      <td>75.0</td>\n",
       "      <td>82.0</td>\n",
       "      <td>66.0</td>\n",
       "      <td>59.0</td>\n",
       "      <td>62.0</td>\n",
       "      <td>...</td>\n",
       "      <td>72.0</td>\n",
       "      <td>65.0</td>\n",
       "      <td>84.0</td>\n",
       "      <td>65.0</td>\n",
       "      <td>62.0</td>\n",
       "      <td>56.0</td>\n",
       "      <td>32.0</td>\n",
       "      <td>41.0</td>\n",
       "      <td>RB</td>\n",
       "      <td>Back</td>\n",
       "    </tr>\n",
       "    <tr>\n",
       "      <td>S. Donnelly</td>\n",
       "      <td>24</td>\n",
       "      <td>Republic of Ireland</td>\n",
       "      <td>54.0</td>\n",
       "      <td>52.0</td>\n",
       "      <td>32.0</td>\n",
       "      <td>56.0</td>\n",
       "      <td>63.0</td>\n",
       "      <td>45.0</td>\n",
       "      <td>40.0</td>\n",
       "      <td>30.0</td>\n",
       "      <td>...</td>\n",
       "      <td>50.0</td>\n",
       "      <td>19.0</td>\n",
       "      <td>59.0</td>\n",
       "      <td>52.0</td>\n",
       "      <td>11.0</td>\n",
       "      <td>44.0</td>\n",
       "      <td>41.0</td>\n",
       "      <td>42.0</td>\n",
       "      <td>ST</td>\n",
       "      <td>Forward</td>\n",
       "    </tr>\n",
       "    <tr>\n",
       "      <td>...</td>\n",
       "      <td>...</td>\n",
       "      <td>...</td>\n",
       "      <td>...</td>\n",
       "      <td>...</td>\n",
       "      <td>...</td>\n",
       "      <td>...</td>\n",
       "      <td>...</td>\n",
       "      <td>...</td>\n",
       "      <td>...</td>\n",
       "      <td>...</td>\n",
       "      <td>...</td>\n",
       "      <td>...</td>\n",
       "      <td>...</td>\n",
       "      <td>...</td>\n",
       "      <td>...</td>\n",
       "      <td>...</td>\n",
       "      <td>...</td>\n",
       "      <td>...</td>\n",
       "      <td>...</td>\n",
       "      <td>...</td>\n",
       "      <td>...</td>\n",
       "    </tr>\n",
       "    <tr>\n",
       "      <td>J. Riocel</td>\n",
       "      <td>33</td>\n",
       "      <td>Chile</td>\n",
       "      <td>68.0</td>\n",
       "      <td>80.0</td>\n",
       "      <td>52.0</td>\n",
       "      <td>82.0</td>\n",
       "      <td>75.0</td>\n",
       "      <td>63.0</td>\n",
       "      <td>59.0</td>\n",
       "      <td>55.0</td>\n",
       "      <td>...</td>\n",
       "      <td>70.0</td>\n",
       "      <td>38.0</td>\n",
       "      <td>79.0</td>\n",
       "      <td>66.0</td>\n",
       "      <td>41.0</td>\n",
       "      <td>58.0</td>\n",
       "      <td>58.0</td>\n",
       "      <td>66.0</td>\n",
       "      <td>CAM</td>\n",
       "      <td>Midfielder</td>\n",
       "    </tr>\n",
       "    <tr>\n",
       "      <td>R. Haemhouts</td>\n",
       "      <td>33</td>\n",
       "      <td>Belgium</td>\n",
       "      <td>63.0</td>\n",
       "      <td>38.0</td>\n",
       "      <td>67.0</td>\n",
       "      <td>68.0</td>\n",
       "      <td>73.0</td>\n",
       "      <td>63.0</td>\n",
       "      <td>60.0</td>\n",
       "      <td>60.0</td>\n",
       "      <td>...</td>\n",
       "      <td>64.0</td>\n",
       "      <td>55.0</td>\n",
       "      <td>43.0</td>\n",
       "      <td>52.0</td>\n",
       "      <td>50.0</td>\n",
       "      <td>56.0</td>\n",
       "      <td>63.0</td>\n",
       "      <td>53.0</td>\n",
       "      <td>CAM CDM CM</td>\n",
       "      <td>Midfielder</td>\n",
       "    </tr>\n",
       "    <tr>\n",
       "      <td>A. Angulo</td>\n",
       "      <td>20</td>\n",
       "      <td>Colombia</td>\n",
       "      <td>60.0</td>\n",
       "      <td>90.0</td>\n",
       "      <td>46.0</td>\n",
       "      <td>78.0</td>\n",
       "      <td>78.0</td>\n",
       "      <td>47.0</td>\n",
       "      <td>36.0</td>\n",
       "      <td>57.0</td>\n",
       "      <td>...</td>\n",
       "      <td>28.0</td>\n",
       "      <td>53.0</td>\n",
       "      <td>90.0</td>\n",
       "      <td>70.0</td>\n",
       "      <td>49.0</td>\n",
       "      <td>47.0</td>\n",
       "      <td>32.0</td>\n",
       "      <td>28.0</td>\n",
       "      <td>LM LB</td>\n",
       "      <td>Back</td>\n",
       "    </tr>\n",
       "    <tr>\n",
       "      <td>E. Sarraj</td>\n",
       "      <td>27</td>\n",
       "      <td>Saudi Arabia</td>\n",
       "      <td>65.0</td>\n",
       "      <td>69.0</td>\n",
       "      <td>33.0</td>\n",
       "      <td>69.0</td>\n",
       "      <td>67.0</td>\n",
       "      <td>65.0</td>\n",
       "      <td>55.0</td>\n",
       "      <td>55.0</td>\n",
       "      <td>...</td>\n",
       "      <td>68.0</td>\n",
       "      <td>19.0</td>\n",
       "      <td>69.0</td>\n",
       "      <td>73.0</td>\n",
       "      <td>19.0</td>\n",
       "      <td>73.0</td>\n",
       "      <td>58.0</td>\n",
       "      <td>60.0</td>\n",
       "      <td>ST RM</td>\n",
       "      <td>Midfielder</td>\n",
       "    </tr>\n",
       "    <tr>\n",
       "      <td>Sebas Moyano</td>\n",
       "      <td>20</td>\n",
       "      <td>Spain</td>\n",
       "      <td>61.0</td>\n",
       "      <td>71.0</td>\n",
       "      <td>46.0</td>\n",
       "      <td>71.0</td>\n",
       "      <td>78.0</td>\n",
       "      <td>62.0</td>\n",
       "      <td>52.0</td>\n",
       "      <td>52.0</td>\n",
       "      <td>...</td>\n",
       "      <td>43.0</td>\n",
       "      <td>40.0</td>\n",
       "      <td>68.0</td>\n",
       "      <td>50.0</td>\n",
       "      <td>35.0</td>\n",
       "      <td>30.0</td>\n",
       "      <td>60.0</td>\n",
       "      <td>63.0</td>\n",
       "      <td>CAM RM</td>\n",
       "      <td>Midfielder</td>\n",
       "    </tr>\n",
       "  </tbody>\n",
       "</table>\n",
       "<p>17981 rows × 39 columns</p>\n",
       "</div>"
      ],
      "text/plain": [
       "                   Age          Nationality  Overall  Acceleration  \\\n",
       "Name                                                                 \n",
       "A. Muhamedbegovic   18              Austria     51.0          54.0   \n",
       "R. Dow              26             Scotland     65.0          81.0   \n",
       "A. Epureanu         30              Moldova     74.0          57.0   \n",
       "Aurélio Buta        20               Angola     67.0          81.0   \n",
       "S. Donnelly         24  Republic of Ireland     54.0          52.0   \n",
       "...                ...                  ...      ...           ...   \n",
       "J. Riocel           33                Chile     68.0          80.0   \n",
       "R. Haemhouts        33              Belgium     63.0          38.0   \n",
       "A. Angulo           20             Colombia     60.0          90.0   \n",
       "E. Sarraj           27         Saudi Arabia     65.0          69.0   \n",
       "Sebas Moyano        20                Spain     61.0          71.0   \n",
       "\n",
       "                   Aggression  Agility  Balance  Ball control  Composure  \\\n",
       "Name                                                                       \n",
       "A. Muhamedbegovic        45.0     37.0     56.0          31.0       43.0   \n",
       "R. Dow                   59.0     90.0     76.0          68.0       61.0   \n",
       "A. Epureanu              70.0     36.0     36.0          61.0       53.0   \n",
       "Aurélio Buta             61.0     75.0     82.0          66.0       59.0   \n",
       "S. Donnelly              32.0     56.0     63.0          45.0       40.0   \n",
       "...                       ...      ...      ...           ...        ...   \n",
       "J. Riocel                52.0     82.0     75.0          63.0       59.0   \n",
       "R. Haemhouts             67.0     68.0     73.0          63.0       60.0   \n",
       "A. Angulo                46.0     78.0     78.0          47.0       36.0   \n",
       "E. Sarraj                33.0     69.0     67.0          65.0       55.0   \n",
       "Sebas Moyano             46.0     71.0     78.0          62.0       52.0   \n",
       "\n",
       "                   Crossing  ...  Shot power  Sliding tackle  Sprint speed  \\\n",
       "Name                         ...                                             \n",
       "A. Muhamedbegovic      31.0  ...        41.0            53.0          64.0   \n",
       "R. Dow                 61.0  ...        60.0            15.0          79.0   \n",
       "A. Epureanu            39.0  ...        71.0            72.0          50.0   \n",
       "Aurélio Buta           62.0  ...        72.0            65.0          84.0   \n",
       "S. Donnelly            30.0  ...        50.0            19.0          59.0   \n",
       "...                     ...  ...         ...             ...           ...   \n",
       "J. Riocel              55.0  ...        70.0            38.0          79.0   \n",
       "R. Haemhouts           60.0  ...        64.0            55.0          43.0   \n",
       "A. Angulo              57.0  ...        28.0            53.0          90.0   \n",
       "E. Sarraj              55.0  ...        68.0            19.0          69.0   \n",
       "Sebas Moyano           52.0  ...        43.0            40.0          68.0   \n",
       "\n",
       "                   Stamina  Standing tackle  Strength  Vision  Volleys  \\\n",
       "Name                                                                     \n",
       "A. Muhamedbegovic     53.0             55.0      62.0    27.0     27.0   \n",
       "R. Dow                73.0             19.0      61.0    61.0     55.0   \n",
       "A. Epureanu           63.0             77.0      87.0    41.0     65.0   \n",
       "Aurélio Buta          65.0             62.0      56.0    32.0     41.0   \n",
       "S. Donnelly           52.0             11.0      44.0    41.0     42.0   \n",
       "...                    ...              ...       ...     ...      ...   \n",
       "J. Riocel             66.0             41.0      58.0    58.0     66.0   \n",
       "R. Haemhouts          52.0             50.0      56.0    63.0     53.0   \n",
       "A. Angulo             70.0             49.0      47.0    32.0     28.0   \n",
       "E. Sarraj             73.0             19.0      73.0    58.0     60.0   \n",
       "Sebas Moyano          50.0             35.0      30.0    60.0     63.0   \n",
       "\n",
       "                   Preferred Positions  Preferred Positions Type  \n",
       "Name                                                              \n",
       "A. Muhamedbegovic                  CB                       Back  \n",
       "R. Dow                             LM                 Midfielder  \n",
       "A. Epureanu                        CB                       Back  \n",
       "Aurélio Buta                       RB                       Back  \n",
       "S. Donnelly                        ST                    Forward  \n",
       "...                                ...                       ...  \n",
       "J. Riocel                         CAM                 Midfielder  \n",
       "R. Haemhouts               CAM CDM CM                 Midfielder  \n",
       "A. Angulo                       LM LB                       Back  \n",
       "E. Sarraj                       ST RM                 Midfielder  \n",
       "Sebas Moyano                   CAM RM                 Midfielder  \n",
       "\n",
       "[17981 rows x 39 columns]"
      ]
     },
     "execution_count": 5,
     "metadata": {},
     "output_type": "execute_result"
    }
   ],
   "source": [
    "df"
   ]
  },
  {
   "cell_type": "code",
   "execution_count": 6,
   "metadata": {},
   "outputs": [],
   "source": [
    "### START FUNCTION 1\n",
    "\n",
    "def best_defender_1(rank, max_age):\n",
    "    \n",
    "   \n",
    "    dflist=df[df['Preferred Positions Type'] == 'Back'].sort_values(['Overall', 'Name'], ascending=[False, False]).reset_index()\n",
    "    dfmetric=dflist[dflist['Age'] < max_age]\n",
    "    return dfmetric['Name'].iloc[rank-1]\n",
    "\n",
    "### END FUNCTION 1"
   ]
  },
  {
   "cell_type": "code",
   "execution_count": 7,
   "metadata": {},
   "outputs": [
    {
     "data": {
      "text/plain": [
       "'T. Alderweireld'"
      ]
     },
     "execution_count": 7,
     "metadata": {},
     "output_type": "execute_result"
    }
   ],
   "source": [
    "best_defender_1(10, 35)"
   ]
  },
  {
   "cell_type": "code",
   "execution_count": 8,
   "metadata": {},
   "outputs": [],
   "source": [
    "### START FUNCTION 2\n",
    "\n",
    "def best_defender_2(rank, max_age, max_aggression, min_stamina):\n",
    "    \n",
    "   \n",
    "    dflist=df[df['Preferred Positions Type'] == 'Back'].sort_values(['Overall', 'Name'], ascending=[False, False]).reset_index()\n",
    "    dfmetric=dflist[(dflist['Age'] < max_age) & (dflist['Aggression'] < max_aggression) & (dflist['Stamina'] > min_stamina)]\n",
    "    return dfmetric['Name'].iloc[rank-1]\n",
    "\n",
    "### END FUNCTION 2"
   ]
  },
  {
   "cell_type": "code",
   "execution_count": 9,
   "metadata": {},
   "outputs": [
    {
     "data": {
      "text/plain": [
       "'K. Walker'"
      ]
     },
     "execution_count": 9,
     "metadata": {},
     "output_type": "execute_result"
    }
   ],
   "source": [
    "best_defender_2(10, 30, 80, 60)"
   ]
  },
  {
   "cell_type": "code",
   "execution_count": 10,
   "metadata": {},
   "outputs": [],
   "source": [
    "### START FUNCTION 3\n",
    "\n",
    "def best_defender_3(rank, max_age, team):\n",
    "    \n",
    "    \n",
    "    dflist=df[df['Preferred Positions Type'] == 'Back'].sort_values(['Overall', 'Name'], ascending=[False, False]).reset_index()\n",
    "    dfmetric=dflist[(dflist['Age'] < max_age) & (dflist['Nationality'] != team)]\n",
    "    return dfmetric['Name'].iloc[rank-1]\n",
    "\n",
    "### END FUNCTION 3"
   ]
  },
  {
   "cell_type": "code",
   "execution_count": 11,
   "metadata": {},
   "outputs": [
    {
     "data": {
      "text/plain": [
       "'A. Rüdiger'"
      ]
     },
     "execution_count": 11,
     "metadata": {},
     "output_type": "execute_result"
    }
   ],
   "source": [
    "best_defender_3(10, 25, 'Argentina')"
   ]
  },
  {
   "cell_type": "code",
   "execution_count": 12,
   "metadata": {},
   "outputs": [],
   "source": [
    "### START FUNCTION 4\n",
    "\n",
    "def best_attacker_1(rank, attribute_name, min_attribute_score):\n",
    "    \n",
    "    \n",
    "    atlist=df[df['Preferred Positions Type'] == 'Forward'].sort_values(['Overall', 'Name'], ascending=[False, False]).reset_index() \n",
    "    atmetric=atlist[atlist[attribute_name] > min_attribute_score]\n",
    "    return atmetric['Name'].iloc[rank-1]\n",
    "\n",
    "### END FUNCTION 4"
   ]
  },
  {
   "cell_type": "code",
   "execution_count": 13,
   "metadata": {},
   "outputs": [
    {
     "data": {
      "text/plain": [
       "'P. Aubameyang'"
      ]
     },
     "execution_count": 13,
     "metadata": {},
     "output_type": "execute_result"
    }
   ],
   "source": [
    "best_attacker_1(10, 'Balance', 50)"
   ]
  },
  {
   "cell_type": "code",
   "execution_count": 14,
   "metadata": {},
   "outputs": [],
   "source": [
    "### START FUNCTION 5\n",
    "\n",
    "def best_attacker_2(rank, attribute_1_name, attribute_2_name, min_attributes_ave):\n",
    "    \n",
    "  \n",
    "    atlist=df[df['Preferred Positions Type'] == 'Forward'].sort_values(['Overall', 'Name'], ascending=[False, False]).reset_index()\n",
    "    atmetric=atlist[((atlist[attribute_1_name] + atlist[attribute_2_name])/2) > min_attributes_ave]\n",
    "    return atmetric['Name'].iloc[rank-1]\n",
    "\n",
    "### END FUNCTION 5"
   ]
  },
  {
   "cell_type": "code",
   "execution_count": 15,
   "metadata": {},
   "outputs": [
    {
     "data": {
      "text/plain": [
       "'S. Mané'"
      ]
     },
     "execution_count": 15,
     "metadata": {},
     "output_type": "execute_result"
    }
   ],
   "source": [
    "best_attacker_2(10, 'Finishing', 'Balance', 80)"
   ]
  },
  {
   "cell_type": "code",
   "execution_count": 16,
   "metadata": {},
   "outputs": [],
   "source": [
    "### START FUNCTION 6\n",
    "\n",
    "def best_attacker_3(rank, attribute_1_name, attribute_2_name, min_attributes_min):\n",
    "    \n",
    "   \n",
    "    atlist=df[df['Preferred Positions Type'] == 'Forward'].sort_values(['Overall', 'Name'], ascending=[False, False]).reset_index()\n",
    "    atmetric=atlist[(atlist[attribute_1_name] > min_attributes_min) & (atlist[attribute_2_name] > min_attributes_min)]\n",
    "    return atmetric['Name'].iloc[rank-1]\n",
    "    \n",
    "### END FUNCTION 6"
   ]
  },
  {
   "cell_type": "code",
   "execution_count": 17,
   "metadata": {},
   "outputs": [
    {
     "data": {
      "text/plain": [
       "'A. Di María'"
      ]
     },
     "execution_count": 17,
     "metadata": {},
     "output_type": "execute_result"
    }
   ],
   "source": [
    "best_attacker_3(10, 'Balance', 'Composure', 70)"
   ]
  },
  {
   "cell_type": "code",
   "execution_count": 18,
   "metadata": {},
   "outputs": [],
   "source": [
    "### START FUNCTION 7\n",
    "\n",
    "def best_team_1(country, no_defenders, max_age):\n",
    "    \n",
    "   \n",
    "    dflist=df[df['Preferred Positions Type'] == 'Back'].sort_values(['Overall', 'Name'], ascending=[False, False]).reset_index()\n",
    "    dfmetric=dflist[(dflist['Age'] < max_age) & (dflist['Nationality'] == country)]\n",
    "    topdflist = list(dfmetric['Name'][:no_defenders])\n",
    "    return topdflist\n",
    "    \n",
    "### END FUNCTION 7"
   ]
  },
  {
   "cell_type": "code",
   "execution_count": 19,
   "metadata": {},
   "outputs": [
    {
     "data": {
      "text/plain": [
       "['K. Walker', 'N. Clyne', 'E. Dier']"
      ]
     },
     "execution_count": 19,
     "metadata": {},
     "output_type": "execute_result"
    }
   ],
   "source": [
    "best_team_1('England', 3, 30)"
   ]
  },
  {
   "cell_type": "code",
   "execution_count": 20,
   "metadata": {},
   "outputs": [],
   "source": [
    "### START FUNCTION 8\n",
    "\n",
    "def best_team_2(country, no_attackers, attribute_name, min_attribute_score):\n",
    "    \n",
    "    \n",
    "    atlist=df[df['Preferred Positions Type'] == 'Forward'].sort_values(['Overall', 'Name'], ascending=[False, False]).reset_index()\n",
    "    atmetric=atlist[(atlist[attribute_name] > min_attribute_score) & (atlist['Nationality'] == country)]\n",
    "    topatlist = list(atmetric['Name'][:no_attackers])\n",
    "    return topatlist\n",
    "\n",
    "    \n",
    "### END FUNCTION 8"
   ]
  },
  {
   "cell_type": "code",
   "execution_count": 21,
   "metadata": {},
   "outputs": [
    {
     "data": {
      "text/plain": [
       "['H. Kane', 'R. Sterling', 'D. Sturridge']"
      ]
     },
     "execution_count": 21,
     "metadata": {},
     "output_type": "execute_result"
    }
   ],
   "source": [
    "best_team_2('England', 3, 'Finishing', 60)"
   ]
  },
  {
   "cell_type": "code",
   "execution_count": 22,
   "metadata": {},
   "outputs": [],
   "source": [
    "### START FUNCTION 9\n",
    "\n",
    "def best_team_3(country, no_attackers, no_defenders, no_midfielders, no_goalkeepers):\n",
    "    \n",
    "    df2 = df[(df['Preferred Positions Type'] == 'Forward') & (df['Nationality'] == country)].sort_values(['Overall', 'Name'], ascending = [False, False]).head(no_attackers)    \n",
    "    df3 = df[(df['Preferred Positions Type'] == 'Back') & (df['Nationality'] == country)].sort_values(['Overall', 'Name'], ascending = [False, False]).head(no_defenders)\n",
    "    df4 = df[(df['Preferred Positions Type'] == 'Midfielder') & (df['Nationality'] == country)].sort_values(['Overall', 'Name'], ascending = [False, False]).head(no_midfielders)\n",
    "    df5 = df[(df['Preferred Positions Type'] == 'GoalKeeper') & (df['Nationality'] == country)].sort_values(['Overall', 'Name'], ascending = [False, False]).head(no_goalkeepers)\n",
    "    x = df2.append(df3).append(df4).append(df5)\n",
    "    lst = []\n",
    "    for row in x.iterrows():\n",
    "        index, data = row\n",
    "        lst.append(index)\n",
    "    return lst\n",
    "    \n",
    "### END FUNCTION 9"
   ]
  },
  {
   "cell_type": "code",
   "execution_count": 23,
   "metadata": {},
   "outputs": [
    {
     "data": {
      "text/plain": [
       "['H. Kane',\n",
       " 'R. Sterling',\n",
       " 'D. Sturridge',\n",
       " 'G. Cahill',\n",
       " 'K. Walker',\n",
       " 'N. Clyne',\n",
       " 'L. Baines',\n",
       " 'D. Alli',\n",
       " 'A. Lallana',\n",
       " 'J. Henderson',\n",
       " 'J. Hart']"
      ]
     },
     "execution_count": 23,
     "metadata": {},
     "output_type": "execute_result"
    }
   ],
   "source": [
    "best_team_3('England', 3, 4, 3, 1)"
   ]
  },
  {
   "cell_type": "code",
   "execution_count": null,
   "metadata": {},
   "outputs": [],
   "source": []
  }
 ],
 "metadata": {
  "kernelspec": {
   "display_name": "Python 3",
   "language": "python",
   "name": "python3"
  },
  "language_info": {
   "codemirror_mode": {
    "name": "ipython",
    "version": 3
   },
   "file_extension": ".py",
   "mimetype": "text/x-python",
   "name": "python",
   "nbconvert_exporter": "python",
   "pygments_lexer": "ipython3",
   "version": "3.7.4"
  }
 },
 "nbformat": 4,
 "nbformat_minor": 2
}
